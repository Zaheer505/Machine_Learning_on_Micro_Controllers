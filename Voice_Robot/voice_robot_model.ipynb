{
  "nbformat": 4,
  "nbformat_minor": 0,
  "metadata": {
    "colab": {
      "name": "voice_robot_model.ipynb",
      "provenance": [],
      "collapsed_sections": []
    },
    "kernelspec": {
      "name": "python3",
      "display_name": "Python 3"
    },
    "language_info": {
      "name": "python"
    }
  },
  "cells": [
    {
      "cell_type": "markdown",
      "metadata": {
        "id": "jYysdyb-CaWM"
      },
      "source": [
        "# Simple Audio Recognition for Voice Controlled Robot"
      ]
    },
    {
      "cell_type": "markdown",
      "metadata": {
        "id": "SPfDNFlb66XF"
      },
      "source": [
        "In this tutorial we will show you how to build a basic speech recognition network that recognizes different words. It's important to know that real speech and audio recognition systems are much more complex, but it will give you a basic understanding of the techniques involved."
      ]
    },
    {
      "cell_type": "markdown",
      "metadata": {
        "id": "Go9C3uLL8Izc"
      },
      "source": [
        "# Contents of This Note Book\n",
        "* Importing Libraries and Data Set\n",
        "* Checking Data Set with Different Operations\n",
        "* Waveform to Spectogram Conversion\n",
        "* Building and Training the Model\n",
        "* Saving the Model\n",
        "* Checking Model Accuracy\n",
        "* TF Model to TF Lite Conversion\n",
        "* TF Lite Interpreter\n",
        "* TF Lite Model Prediction\n",
        "* Comparison of TF & TF Lite Prediction"
      ]
    },
    {
      "cell_type": "markdown",
      "metadata": {
        "id": "mzLTZCs0Ygzw"
      },
      "source": [
        "**Importing Libraries**"
      ]
    },
    {
      "cell_type": "code",
      "metadata": {
        "id": "dzLKpmZICaWN"
      },
      "source": [
        "import os\n",
        "import pathlib\n",
        "\n",
        "import matplotlib.pyplot as plt\n",
        "import numpy as np\n",
        "import seaborn as sns\n",
        "import tensorflow as tf\n",
        "\n",
        "from tensorflow.keras.layers.experimental import preprocessing\n",
        "from tensorflow.keras import layers\n",
        "from tensorflow.keras import models"
      ],
      "execution_count": null,
      "outputs": []
    },
    {
      "cell_type": "markdown",
      "metadata": {
        "id": "yR0EdgrLCaWR"
      },
      "source": [
        "**Importing Speech Commands Data Set**\n",
        "\n",
        "Here, we will be loading our drive for the data set of audio files in .wav format. There are 4 categories and each one consists of 20 files."
      ]
    },
    {
      "cell_type": "code",
      "metadata": {
        "id": "ofPwtbihYQGd"
      },
      "source": [
        "# load the drive helper and mount\n",
        "from google.colab import drive\n",
        "\n",
        "# this will prompt for authorization.\n",
        "drive.mount('/content/drive')\n",
        "\n",
        "# after executing the cell above, Drive\n",
        "# files will be present in \"/content/drive/My Drive\".\n",
        "!ls \"/content/drive/My Drive\"\n",
        "\n",
        "data_dir = pathlib.Path('/content/drive/MyDrive/voice robot')"
      ],
      "execution_count": null,
      "outputs": []
    },
    {
      "cell_type": "markdown",
      "metadata": {
        "id": "BgvFq3uYiS5G"
      },
      "source": [
        "**Check basic statistics about the dataset.**"
      ]
    },
    {
      "cell_type": "code",
      "metadata": {
        "id": "70IBxSKxA1N9",
        "colab": {
          "base_uri": "https://localhost:8080/"
        },
        "outputId": "d1bb7a3d-c148-4ce1-c4fd-70ee51191916"
      },
      "source": [
        "commands = np.array(tf.io.gfile.listdir(str(data_dir)))\n",
        "print('Commands:', commands)"
      ],
      "execution_count": null,
      "outputs": [
        {
          "output_type": "stream",
          "name": "stdout",
          "text": [
            "Commands: ['right' 'left' 'go' 'stop']\n"
          ]
        }
      ]
    },
    {
      "cell_type": "markdown",
      "metadata": {
        "id": "aMvdU9SY8WXN"
      },
      "source": [
        "**Extract the audio files into a list and shuffle it.**"
      ]
    },
    {
      "cell_type": "code",
      "metadata": {
        "id": "hlX685l1wD9k"
      },
      "source": [
        "filenames = tf.io.gfile.glob(str(data_dir) + '/*/*')\n",
        "filenames = tf.random.shuffle(filenames)\n",
        "num_samples = len(filenames)\n",
        "print('Number of total examples:', num_samples)\n",
        "print('Number of examples per label:',\n",
        "      len(tf.io.gfile.listdir(str(data_dir/commands[0]))))\n",
        "print('Example file tensor:', filenames[0])"
      ],
      "execution_count": null,
      "outputs": []
    },
    {
      "cell_type": "markdown",
      "metadata": {
        "id": "9vK3ymy23MCP"
      },
      "source": [
        "**Split the files into training, validation and test sets using a 80:10:10 ratio, respectively.**"
      ]
    },
    {
      "cell_type": "code",
      "metadata": {
        "id": "Cv_wts-l3KgD",
        "colab": {
          "base_uri": "https://localhost:8080/"
        },
        "outputId": "a88fcb3e-7590-415b-82c4-349947104364"
      },
      "source": [
        "train_files = filenames[:120]\n",
        "val_files = filenames[120:135]\n",
        "test_files = filenames[135:]\n",
        "\n",
        "print('Training set size', len(train_files))\n",
        "print('Validation set size', len(val_files))\n",
        "print('Test set size', len(test_files))"
      ],
      "execution_count": null,
      "outputs": [
        {
          "output_type": "stream",
          "name": "stdout",
          "text": [
            "Training set size 120\n",
            "Validation set size 15\n",
            "Test set size 15\n"
          ]
        }
      ]
    },
    {
      "cell_type": "markdown",
      "metadata": {
        "id": "g2Cj9FyvfweD"
      },
      "source": [
        "### **Reading audio files and their labels**"
      ]
    },
    {
      "cell_type": "markdown",
      "metadata": {
        "id": "j1zjcWteOcBy"
      },
      "source": [
        "The audio file will initially be read as a binary file, which you'll want to convert into a numerical tensor.\n",
        "\n",
        "To load an audio file, you will use [`tf.audio.decode_wav`](https://www.tensorflow.org/api_docs/python/tf/audio/decode_wav), which returns the WAV-encoded audio as a Tensor and the sample rate.\n",
        "\n",
        "A WAV file contains time series data with a set number of samples per second. \n",
        "Each sample represents the amplitude of the audio signal at that specific time. In a 16-bit system, like the files here, the values range from -32768 to 32767. \n",
        "The sample rate for this dataset is 16kHz.\n",
        "Note that `tf.audio.decode_wav` will normalize the values to the range [-1.0, 1.0]."
      ]
    },
    {
      "cell_type": "code",
      "metadata": {
        "id": "9PjJ2iXYwftD"
      },
      "source": [
        "def decode_audio(audio_binary):\n",
        "  audio, _ = tf.audio.decode_wav(audio_binary)\n",
        "  return tf.squeeze(audio, axis=-1)"
      ],
      "execution_count": null,
      "outputs": []
    },
    {
      "cell_type": "markdown",
      "metadata": {
        "id": "GPQseZElOjVN"
      },
      "source": [
        "The label for each WAV file is its parent directory."
      ]
    },
    {
      "cell_type": "code",
      "metadata": {
        "id": "8VTtX1nr3YT-"
      },
      "source": [
        "def get_label(file_path):\n",
        "  parts = tf.strings.split(file_path, os.path.sep)\n",
        "\n",
        "  # Note: You'll use indexing here instead of tuple unpacking to enable this \n",
        "  # to work in a TensorFlow graph.\n",
        "  return parts[-2] "
      ],
      "execution_count": null,
      "outputs": []
    },
    {
      "cell_type": "markdown",
      "metadata": {
        "id": "E8Y9w_5MOsr-"
      },
      "source": [
        "Let's define a method that will take in the filename of the WAV file and output a tuple containing the audio and labels for supervised training."
      ]
    },
    {
      "cell_type": "code",
      "metadata": {
        "id": "WdgUD5T93NyT"
      },
      "source": [
        "def get_waveform_and_label(file_path):\n",
        "  label = get_label(file_path)\n",
        "  audio_binary = tf.io.read_file(file_path)\n",
        "  waveform = decode_audio(audio_binary)\n",
        "  return waveform, label"
      ],
      "execution_count": null,
      "outputs": []
    },
    {
      "cell_type": "markdown",
      "metadata": {
        "id": "nvN8W_dDjYjc"
      },
      "source": [
        "You will now apply `process_path` to build your training set to extract the audio-label pairs and check the results. You'll build the validation and test sets using a similar procedure later on."
      ]
    },
    {
      "cell_type": "code",
      "metadata": {
        "id": "0SQl8yXl3kNP"
      },
      "source": [
        "AUTOTUNE = tf.data.AUTOTUNE\n",
        "files_ds = tf.data.Dataset.from_tensor_slices(train_files)\n",
        "waveform_ds = files_ds.map(get_waveform_and_label, num_parallel_calls=AUTOTUNE)"
      ],
      "execution_count": null,
      "outputs": []
    },
    {
      "cell_type": "markdown",
      "metadata": {
        "id": "voxGEwvuh2L7"
      },
      "source": [
        "**Audio Waveforms with their corresponding Labels**"
      ]
    },
    {
      "cell_type": "code",
      "metadata": {
        "id": "8yuX6Nqzf6wT",
        "colab": {
          "base_uri": "https://localhost:8080/",
          "height": 607
        },
        "outputId": "7fe10a13-a345-4775-d1a7-c2fee43f2b75"
      },
      "source": [
        "rows = 3\n",
        "cols = 3\n",
        "n = rows*cols\n",
        "fig, axes = plt.subplots(rows, cols, figsize=(10, 10))\n",
        "for i, (audio, label) in enumerate(waveform_ds.take(n)):\n",
        "  r = i // cols\n",
        "  c = i % cols\n",
        "  ax = axes[r][c]\n",
        "  ax.plot(audio.numpy())\n",
        "  ax.set_yticks(np.arange(-1.2, 1.2, 0.2))\n",
        "  label = label.numpy().decode('utf-8')\n",
        "  ax.set_title(label)\n",
        "\n",
        "plt.show()"
      ],
      "execution_count": null,
      "outputs": [
        {
          "output_type": "display_data",
          "data": {
            "image/png": "[encoded data removed]",
            "text/plain": [
              "<Figure size 720x720 with 9 Axes>"
            ]
          },
          "metadata": {
            "needs_background": "light"
          }
        }
      ]
    },
    {
      "cell_type": "markdown",
      "metadata": {
        "id": "EWXPphxm0B4m"
      },
      "source": [
        "### **Spectrogram**\n",
        "\n",
        "You'll convert the waveform into a spectrogram, which shows frequency changes over time and can be represented as a 2D image. This can be done by applying the short-time Fourier transform (STFT) to convert the audio into the time-frequency domain.\n",
        "\n",
        "A Fourier transform ([`tf.signal.fft`](https://www.tensorflow.org/api_docs/python/tf/signal/fft)) converts a signal to its component frequencies, but loses all time information. The STFT ([`tf.signal.stft`](https://www.tensorflow.org/api_docs/python/tf/signal/stft)) splits the signal into windows of time and runs a Fourier transform on each window, preserving some time information, and returning a 2D tensor that you can run standard convolutions on.\n",
        "\n",
        "STFT produces an array of complex numbers representing magnitude and phase. However, you'll only need the magnitude for this tutorial, which can be derived by applying `tf.abs` on the output of `tf.signal.stft`. \n",
        "\n",
        "Choose `frame_length` and `frame_step` parameters such that the generated spectrogram \"image\" is almost square.\n",
        "\n",
        "You also want the waveforms to have the same length, so that when you convert it to a spectrogram image, the results will have similar dimensions. This can be done by simply zero padding the audio clips that are shorter than one second.\n"
      ]
    },
    {
      "cell_type": "code",
      "metadata": {
        "id": "_4CK75DHz_OR"
      },
      "source": [
        "def get_spectrogram(waveform):\n",
        "  # Padding for files with less than 16000 samples\n",
        "  zero_padding = tf.zeros([16000] - tf.shape(waveform), dtype=tf.float32)\n",
        "\n",
        "  # Concatenate audio with padding so that all audio clips will be of the \n",
        "  # same length\n",
        "  waveform = tf.cast(waveform, tf.float32)\n",
        "  equal_length = tf.concat([waveform, zero_padding], 0)\n",
        "  spectrogram = tf.signal.stft(\n",
        "      equal_length, frame_length=255, frame_step=128)\n",
        "      \n",
        "  spectrogram = tf.abs(spectrogram)\n",
        "\n",
        "  return spectrogram"
      ],
      "execution_count": null,
      "outputs": []
    },
    {
      "cell_type": "markdown",
      "metadata": {
        "id": "GyYXjW07jCHA"
      },
      "source": [
        "Now transform the waveform dataset to have spectrogram images and their corresponding labels as integer IDs."
      ]
    },
    {
      "cell_type": "code",
      "metadata": {
        "id": "43IS2IouEV40"
      },
      "source": [
        "def get_spectrogram_and_label_id(audio, label):\n",
        "  spectrogram = get_spectrogram(audio)\n",
        "  spectrogram = tf.expand_dims(spectrogram, -1)\n",
        "  label_id = tf.argmax(label == commands)\n",
        "  return spectrogram, label_id"
      ],
      "execution_count": null,
      "outputs": []
    },
    {
      "cell_type": "code",
      "metadata": {
        "id": "yEVb_oK0oBLQ"
      },
      "source": [
        "spectrogram_ds = waveform_ds.map(\n",
        "    get_spectrogram_and_label_id, num_parallel_calls=AUTOTUNE)"
      ],
      "execution_count": null,
      "outputs": []
    },
    {
      "cell_type": "markdown",
      "metadata": {
        "id": "6gQpAAgMnyDi"
      },
      "source": [
        "Examine the spectrogram \"images\" for different samples of the dataset."
      ]
    },
    {
      "cell_type": "markdown",
      "metadata": {
        "id": "z5KdY8IF8rkt"
      },
      "source": [
        "### **Build and Train the model**\n",
        "\n",
        "Now you can build and train your model. But before you do that, you'll need to repeat the training set preprocessing on the validation and test sets."
      ]
    },
    {
      "cell_type": "code",
      "metadata": {
        "id": "10UI32QH_45b"
      },
      "source": [
        "def preprocess_dataset(files):\n",
        "  files_ds = tf.data.Dataset.from_tensor_slices(files)\n",
        "  output_ds = files_ds.map(get_waveform_and_label, num_parallel_calls=AUTOTUNE)\n",
        "  output_ds = output_ds.map(\n",
        "      get_spectrogram_and_label_id,  num_parallel_calls=AUTOTUNE)\n",
        "  return output_ds"
      ],
      "execution_count": null,
      "outputs": []
    },
    {
      "cell_type": "code",
      "metadata": {
        "id": "HNv4xwYkB2P6"
      },
      "source": [
        "train_ds = spectrogram_ds\n",
        "val_ds = preprocess_dataset(val_files)\n",
        "test_ds = preprocess_dataset(test_files)"
      ],
      "execution_count": null,
      "outputs": []
    },
    {
      "cell_type": "markdown",
      "metadata": {
        "id": "assnWo6SB3lR"
      },
      "source": [
        "Batch the training and validation sets for model training."
      ]
    },
    {
      "cell_type": "code",
      "metadata": {
        "id": "UgY9WYzn61EX"
      },
      "source": [
        "batch_size = 1\n",
        "train_ds = train_ds.batch(batch_size)\n",
        "val_ds = val_ds.batch(batch_size)"
      ],
      "execution_count": null,
      "outputs": []
    },
    {
      "cell_type": "markdown",
      "metadata": {
        "id": "GS1uIh6F_TN9"
      },
      "source": [
        "Add dataset [`cache()`](https://www.tensorflow.org/api_docs/python/tf/data/Dataset#cache) and [`prefetch()`](https://www.tensorflow.org/api_docs/python/tf/data/Dataset#prefetch) operations to reduce read latency while training the model."
      ]
    },
    {
      "cell_type": "code",
      "metadata": {
        "id": "fdZ6M-F5_QzY"
      },
      "source": [
        "train_ds = train_ds.cache().prefetch(AUTOTUNE)\n",
        "val_ds = val_ds.cache().prefetch(AUTOTUNE)"
      ],
      "execution_count": null,
      "outputs": []
    },
    {
      "cell_type": "markdown",
      "metadata": {
        "id": "rwHkKCQQb5oW"
      },
      "source": [
        "For the model, you'll use a simple convolutional neural network (CNN), since you have transformed the audio files into spectrogram images.\n",
        "The model also has the following additional preprocessing layers:\n",
        "- A [`Resizing`](https://www.tensorflow.org/api_docs/python/tf/keras/layers/experimental/preprocessing/Resizing) layer to downsample the input to enable the model to train faster.\n",
        "- A [`Normalization`](https://www.tensorflow.org/api_docs/python/tf/keras/layers/experimental/preprocessing/Normalization) layer to normalize each pixel in the image based on its mean and standard deviation.\n",
        "\n",
        "For the `Normalization` layer, its `adapt` method would first need to be called on the training data in order to compute aggregate statistics (i.e. mean and standard deviation)."
      ]
    },
    {
      "cell_type": "code",
      "metadata": {
        "id": "ALYz7PFCHblP"
      },
      "source": [
        "for spectrogram, _ in spectrogram_ds.take(1):\n",
        "  input_shape = spectrogram.shape\n",
        "print('Input shape:', input_shape)\n",
        "num_labels = len(commands)\n",
        "\n",
        "norm_layer = preprocessing.Normalization()\n",
        "norm_layer.adapt(spectrogram_ds.map(lambda x, _: x))\n",
        "\n",
        "model = models.Sequential([\n",
        "    layers.Input(shape=input_shape),\n",
        "    preprocessing.Resizing(32, 32), \n",
        "    norm_layer,\n",
        "    layers.Conv2D(32, 3, activation='relu'),\n",
        "    layers.Conv2D(64, 3, activation='relu'),\n",
        "    layers.MaxPooling2D(),\n",
        "    layers.Dropout(0.25),\n",
        "    layers.Flatten(),\n",
        "    layers.Dense(128, activation='relu'),\n",
        "    layers.Dropout(0.5),\n",
        "    layers.Dense(num_labels),\n",
        "])\n",
        "\n",
        "model.summary()"
      ],
      "execution_count": null,
      "outputs": []
    },
    {
      "cell_type": "code",
      "metadata": {
        "id": "wFjj7-EmsTD-"
      },
      "source": [
        "model.compile(\n",
        "    optimizer=tf.keras.optimizers.Adam(),\n",
        "    loss=tf.keras.losses.SparseCategoricalCrossentropy(from_logits=True),\n",
        "    metrics=['accuracy'],\n",
        ")"
      ],
      "execution_count": null,
      "outputs": []
    },
    {
      "cell_type": "code",
      "metadata": {
        "id": "ttioPJVMcGtq"
      },
      "source": [
        "history = model.fit(\n",
        "    train_ds, \n",
        "    validation_data=val_ds,  \n",
        "    epochs=5,\n",
        "    #callbacks=tf.keras.callbacks.EarlyStopping(verbose=1, patience=2),\n",
        ")"
      ],
      "execution_count": null,
      "outputs": []
    },
    {
      "cell_type": "markdown",
      "metadata": {
        "id": "gjpCDeQ4mUfS"
      },
      "source": [
        "**Training and Validation Loss**"
      ]
    },
    {
      "cell_type": "code",
      "metadata": {
        "id": "nzhipg3Gu2AY",
        "colab": {
          "base_uri": "https://localhost:8080/",
          "height": 265
        },
        "outputId": "674fae13-470a-46e4-db83-e543eae32609"
      },
      "source": [
        "metrics = history.history\n",
        "plt.plot(history.epoch, metrics['loss'], metrics['val_loss'])\n",
        "plt.legend(['loss', 'val_loss'])\n",
        "plt.show()"
      ],
      "execution_count": null,
      "outputs": [
        {
          "output_type": "display_data",
          "data": {
            "image/png": "[encoded data removed]",
            "text/plain": [
              "<Figure size 432x288 with 1 Axes>"
            ]
          },
          "metadata": {
            "needs_background": "light"
          }
        }
      ]
    },
    {
      "cell_type": "markdown",
      "metadata": {
        "id": "eMqXO4VjU1id"
      },
      "source": [
        "**Model Saving and Size Check**"
      ]
    },
    {
      "cell_type": "code",
      "metadata": {
        "id": "BSXm2V8jVsfO",
        "colab": {
          "base_uri": "https://localhost:8080/"
        },
        "outputId": "15cb5514-9f29-4fd6-b237-df55adde5cd6"
      },
      "source": [
        "model.save (\"model.h5\")\n",
        "print ('TF Size:', round(os.path.getsize(\"model.h5\")/(1024*1024), 3) , 'MB')"
      ],
      "execution_count": null,
      "outputs": [
        {
          "output_type": "stream",
          "name": "stdout",
          "text": [
            "TF Size: 18.646 MB\n"
          ]
        }
      ]
    },
    {
      "cell_type": "markdown",
      "metadata": {
        "id": "5ZTt3kO3mfm4"
      },
      "source": [
        "### **Test Set Accuracy Check**\n",
        "\n",
        "Let's run the model on the test set and check performance."
      ]
    },
    {
      "cell_type": "code",
      "metadata": {
        "id": "biU2MwzyAo8o"
      },
      "source": [
        "test_audio = []\n",
        "test_labels = []\n",
        "\n",
        "for audio, label in test_ds:\n",
        "  test_audio.append(audio.numpy())\n",
        "  test_labels.append(label.numpy())\n",
        "\n",
        "test_audio = np.array(test_audio)\n",
        "test_labels = np.array(test_labels)"
      ],
      "execution_count": null,
      "outputs": []
    },
    {
      "cell_type": "code",
      "metadata": {
        "id": "ktUanr9mRZky",
        "colab": {
          "base_uri": "https://localhost:8080/"
        },
        "outputId": "4631e7c5-c525-4fc8-ee9b-ec0f61cedc40"
      },
      "source": [
        "y_pred = np.argmax(model.predict(test_audio), axis=1)\n",
        "y_true = test_labels\n",
        "\n",
        "test_acc = sum(y_pred == y_true) / len(y_true)\n",
        "print(f'Test set accuracy: {test_acc:.0%}')"
      ],
      "execution_count": null,
      "outputs": [
        {
          "output_type": "stream",
          "name": "stdout",
          "text": [
            "Test set accuracy: 100%\n"
          ]
        }
      ]
    },
    {
      "cell_type": "markdown",
      "metadata": {
        "id": "mQGi_mzPcLvl"
      },
      "source": [
        "### **Model Prediction**\n",
        "\n",
        "Finally, verify the model's prediction output using an input audio file. How well does your model perform?"
      ]
    },
    {
      "cell_type": "code",
      "metadata": {
        "id": "_sZR8GJK_BRe"
      },
      "source": [
        "print (test_files)"
      ],
      "execution_count": null,
      "outputs": []
    },
    {
      "cell_type": "code",
      "metadata": {
        "id": "zRxauKMdhofU",
        "colab": {
          "base_uri": "https://localhost:8080/",
          "height": 281
        },
        "outputId": "1427895b-d959-4b83-c600-01d615b11199"
      },
      "source": [
        "# use any file here\n",
        "# I'm printing test files names above to test those files here\n",
        "sample_file = data_dir/'right/36.wav'\n",
        "\n",
        "sample_ds = preprocess_dataset([str(sample_file)])\n",
        "\n",
        "for spectrogram, label in sample_ds.batch(1):\n",
        "  prediction = model(spectrogram)\n",
        "  plt.bar(commands, tf.nn.softmax(prediction[0]))\n",
        "  plt.title(f'Predictions for \"{commands[label[0]]}\"')\n",
        "  plt.show()"
      ],
      "execution_count": null,
      "outputs": [
        {
          "output_type": "display_data",
          "data": {
            "image/png": "[encoded data removed]",
            "text/plain": [
              "<Figure size 432x288 with 1 Axes>"
            ]
          },
          "metadata": {
            "needs_background": "light"
          }
        }
      ]
    },
    {
      "cell_type": "markdown",
      "metadata": {
        "id": "J3jF933m9z1J"
      },
      "source": [
        "# **TF Lite Started**\n"
      ]
    },
    {
      "cell_type": "markdown",
      "metadata": {
        "id": "VX00w2MuQgtP"
      },
      "source": [
        "**TF Model to TF Lite Conversion**"
      ]
    },
    {
      "cell_type": "code",
      "metadata": {
        "id": "ieznYWMHPbVJ"
      },
      "source": [
        "# convert & optimize the model\n",
        "converter = tf.lite.TFLiteConverter.from_keras_model(model)\n",
        "converter.optimization = [tf.lite.Optimize.OPTIMIZE_FOR_SIZE]\n",
        "tflite_model = converter.convert()"
      ],
      "execution_count": null,
      "outputs": []
    },
    {
      "cell_type": "markdown",
      "metadata": {
        "id": "KrIp2NhkQrqk"
      },
      "source": [
        "**TF Lite Model Saving & Size Check**"
      ]
    },
    {
      "cell_type": "code",
      "metadata": {
        "id": "VS0MWE-6W58-",
        "colab": {
          "base_uri": "https://localhost:8080/"
        },
        "outputId": "bf02ca05-7562-4f3e-fbc0-a420f33fc251"
      },
      "source": [
        "# save the model\n",
        "open('tflite_model.tflite', 'wb').write(tflite_model)\n",
        "\n",
        "# model size check\n",
        "print ('TF Lite Size:', round(os.path.getsize('tflite_model.tflite')/(1024), 3) , 'KB')"
      ],
      "execution_count": null,
      "outputs": [
        {
          "output_type": "stream",
          "name": "stdout",
          "text": [
            "TF Lite Size: 6351.02 KB\n"
          ]
        }
      ]
    },
    {
      "cell_type": "markdown",
      "metadata": {
        "id": "aVSt1aG6Q7Ux"
      },
      "source": [
        "**Interpreter**"
      ]
    },
    {
      "cell_type": "code",
      "metadata": {
        "id": "TLkruYGcPemF",
        "colab": {
          "base_uri": "https://localhost:8080/"
        },
        "outputId": "00d3a6e9-3969-4356-d3c2-dcfe6c141c41"
      },
      "source": [
        "# 'interpreter' to interpret tf lite model and to get input & output details\n",
        "# models obtained from 'TfLiteConverter' can be run in python with 'interpreter'\n",
        "interpreter = tf.lite.Interpreter('tflite_model.tflite')\n",
        "\n",
        "input_details = interpreter.get_input_details()\n",
        "output_details = interpreter.get_output_details()\n",
        "\n",
        "# print input & output values & shapes to check everything is same \n",
        "# as the orignal tf model.\n",
        "# data types etc are changed during tf lite conversion & optimizations\n",
        "print(\"Input Shape:\", input_details[0]['shape'])\n",
        "print(\"Input Type:\", input_details[0]['dtype'])\n",
        "print(\"Output Shape:\", output_details[0]['shape'])\n",
        "print(\"Output Type:\", output_details[0]['dtype'])"
      ],
      "execution_count": null,
      "outputs": [
        {
          "output_type": "stream",
          "name": "stdout",
          "text": [
            "Input Shape: [  1 124 129   1]\n",
            "Input Type: <class 'numpy.float32'>\n",
            "Output Shape: [1 4]\n",
            "Output Type: <class 'numpy.float32'>\n"
          ]
        }
      ]
    },
    {
      "cell_type": "markdown",
      "metadata": {
        "id": "WoSdft_9R0GU"
      },
      "source": [
        "**Comparison of TF & TF Lite Output**"
      ]
    },
    {
      "cell_type": "code",
      "metadata": {
        "colab": {
          "base_uri": "https://localhost:8080/",
          "height": 545
        },
        "id": "cdm7yb9APjG1",
        "outputId": "d5d9797c-d541-462a-dec0-6502d5e40b27"
      },
      "source": [
        "sample_file = data_dir/'right/36.wav'\n",
        "\n",
        "sample_ds = preprocess_dataset([str(sample_file)])\n",
        "\n",
        "for spectrogram, label in sample_ds.batch(1):\n",
        "  prediction = model(spectrogram)\n",
        "  plt.bar(commands, tf.nn.softmax(prediction[0]))\n",
        "  plt.title(f'TF Predictions for \"{commands[label[0]]}\"')\n",
        "  plt.show()\n",
        "\n",
        "for spectrogram, label in sample_ds.batch(1):\n",
        "  # needed before execution\n",
        "  # tensorFlow lite pre-plans tensor allocations to optimize inference,\n",
        "  # so the user needs to call allocate_tensors() before any inference.\n",
        "  interpreter.allocate_tensors()\n",
        "  interpreter.set_tensor(input_details[0]['index'],spectrogram)\n",
        "  interpreter.invoke()\n",
        "\n",
        "  # predicting from tf lite model\n",
        "  predictionx = interpreter.get_tensor(output_details[0]['index'])\n",
        "  plt.bar(commands, tf.nn.softmax(predictionx[0]))\n",
        "  plt.title(f'TF Lite Predictions for \"{commands[label[0]]}\"')\n",
        "  plt.show()\n"
      ],
      "execution_count": null,
      "outputs": [
        {
          "output_type": "display_data",
          "data": {
            "image/png": "[encoded data removed]",
            "text/plain": [
              "<Figure size 432x288 with 1 Axes>"
            ]
          },
          "metadata": {
            "needs_background": "light"
          }
        },
        {
          "output_type": "display_data",
          "data": {
            "image/png": "[encoded data removed]",
            "text/plain": [
              "<Figure size 432x288 with 1 Axes>"
            ]
          },
          "metadata": {
            "needs_background": "light"
          }
        }
      ]
    }
  ]
}