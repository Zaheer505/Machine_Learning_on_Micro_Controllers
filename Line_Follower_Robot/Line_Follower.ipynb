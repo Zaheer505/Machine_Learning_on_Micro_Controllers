{
  "nbformat": 4,
  "nbformat_minor": 0,
  "metadata": {
    "colab": {
      "name": "Line_Follower.ipynb",
      "provenance": [],
      "collapsed_sections": []
    },
    "kernelspec": {
      "name": "python3",
      "display_name": "Python 3"
    },
    "language_info": {
      "name": "python"
    }
  },
  "cells": [
    {
      "cell_type": "code",
      "metadata": {
        "id": "y0N3m7UZScRi"
      },
      "source": [
        "import numpy as np\n",
        "from sklearn.linear_model import LinearRegression"
      ],
      "execution_count": 225,
      "outputs": []
    },
    {
      "cell_type": "code",
      "metadata": {
        "id": "SHLGRKAhShF2"
      },
      "source": [
        "x = np.array([[0,0,0,1,1], # right \n",
        "              [1,1,0,0,0], # left\n",
        "              [0,0,1,0,0], # straight\n",
        "              [1,1,1,1,1], # stop\n",
        "              [0,0,0,0,1], # hard right\n",
        "              [1,0,0,0,0], # hard left\n",
        "              [0,0,0,0,0]]) # 180` turn\n",
        "\n",
        "y = np.array([[1,0,0], # right\n",
        "              [0,0,1], # left\n",
        "              [1,0,1], # straight\n",
        "              [0,0,0], # stop\n",
        "              [1,1,0], # hard right\n",
        "              [0,1,1], # hard left\n",
        "              [1,1,1]]) # 180` turn\n",
        "\n",
        "reg = LinearRegression().fit(x, y)"
      ],
      "execution_count": 226,
      "outputs": []
    },
    {
      "cell_type": "code",
      "metadata": {
        "colab": {
          "base_uri": "https://localhost:8080/"
        },
        "id": "5qFW-0o-gPVm",
        "outputId": "b903d6f4-a75f-448e-cf6d-32e17b9c9714"
      },
      "source": [
        "prediction = reg.predict(np.array([[0,0,0,0,1]]))\n",
        "prediction = np.around(abs(prediction))\n",
        "print ('Prediction: ', prediction)\n",
        "\n",
        "if (prediction == [1,0,0]).all():\n",
        "  print ('turn right')\n",
        "elif (prediction == [0,0,1]).all():\n",
        "  print ('turn left')\n",
        "elif (prediction == [1,0,1]).all():\n",
        "  print ('go straight')\n",
        "elif (prediction == [0,0,0]).all():\n",
        "  print ('stop')\n",
        "elif (prediction == [1,1,0]).all():\n",
        "  print ('hard right')\n",
        "elif (prediction == [0,1,1]).all():\n",
        "  print ('hard left')\n",
        "elif (prediction == [1,1,1]).all():\n",
        "  print ('180` turn')"
      ],
      "execution_count": 227,
      "outputs": [
        {
          "output_type": "stream",
          "name": "stdout",
          "text": [
            "Prediction:  [[1. 1. 0.]]\n",
            "hard right\n"
          ]
        }
      ]
    }
  ]
}