{
  "nbformat": 4,
  "nbformat_minor": 0,
  "metadata": {
    "colab": {
      "name": "Line_Follower.ipynb",
      "provenance": [],
      "collapsed_sections": []
    },
    "kernelspec": {
      "name": "python3",
      "display_name": "Python 3"
    },
    "language_info": {
      "name": "python"
    }
  },
  "cells": [
    {
      "cell_type": "markdown",
      "metadata": {
        "id": "msUo2S8XnxZs"
      },
      "source": [
        "# Line Follower Robot using Machine Learning"
      ]
    },
    {
      "cell_type": "markdown",
      "metadata": {
        "id": "9q4-V8aJn93r"
      },
      "source": [
        "In this tutorial we will show you how to build a line follower robot using machine learning."
      ]
    },
    {
      "cell_type": "markdown",
      "metadata": {
        "id": "6jXch4M9oKK7"
      },
      "source": [
        "## Contents of This Note Book\n",
        "* Importing Libraries\n",
        "* Define Input & Outputs\n",
        "* Waveform to Spectogram Conversion\n",
        "* Building and Training the Model\n",
        "* Checking Model Accuracy by Prediction"
      ]
    },
    {
      "cell_type": "markdown",
      "metadata": {
        "id": "B_a7MYeGov3Z"
      },
      "source": [
        "**Importing Libraries**"
      ]
    },
    {
      "cell_type": "code",
      "metadata": {
        "id": "y0N3m7UZScRi"
      },
      "source": [
        "import numpy as np\n",
        "from sklearn.linear_model import LinearRegression"
      ],
      "execution_count": 1,
      "outputs": []
    },
    {
      "cell_type": "markdown",
      "metadata": {
        "id": "UoKpugTbozuo"
      },
      "source": [
        "**Define Inputs & Outputs**"
      ]
    },
    {
      "cell_type": "markdown",
      "metadata": {
        "id": "CmtFKkVipK1g"
      },
      "source": [
        "Here, we are defining line conditions as inputs which will result in certain actions as outputs.\n",
        "\n",
        "We are using 5 sensors to detect line conditions. These sensors will tell us about the movement of the robot. To move the robot in certain position we have two motors (which will control left & right wheels). "
      ]
    },
    {
      "cell_type": "code",
      "metadata": {
        "id": "SHLGRKAhShF2"
      },
      "source": [
        "# the middle sensor will be 1 for forward movement\n",
        "# left & right sensors will define left & right movements\n",
        "# all sensors will be 1 for stopping the robot\n",
        "# when no line is detected, the robot will take 180` turn\n",
        "x = np.array([[0,0,0,1,1],  # right \n",
        "              [1,1,0,0,0],  # left\n",
        "              [0,0,1,0,0],  # straight\n",
        "              [1,1,1,1,1],  # stop\n",
        "              [0,0,0,0,1],  # hard right\n",
        "              [1,0,0,0,0],  # hard left\n",
        "              [0,0,0,0,0]]) # 180` turn\n",
        "\n",
        "# for left and right motors we have two outputs on left & right\n",
        "# the middle output will be 0 for simple movements (left,right, forward, stop)\n",
        "# the middle output will be 1 for special movements (hard left, hard right, 180` turn)\n",
        "y = np.array([[1,0,0],  # right\n",
        "              [0,0,1],  # left\n",
        "              [1,0,1],  # straight\n",
        "              [0,0,0],  # stop\n",
        "              [1,1,0],  # hard right\n",
        "              [0,1,1],  # hard left\n",
        "              [1,1,1]]) # 180` turn"
      ],
      "execution_count": 2,
      "outputs": []
    },
    {
      "cell_type": "markdown",
      "metadata": {
        "id": "oU08XagVo7-5"
      },
      "source": [
        "**Model**"
      ]
    },
    {
      "cell_type": "code",
      "metadata": {
        "id": "QoMRDuq9o64R"
      },
      "source": [
        "reg = LinearRegression().fit(x, y)"
      ],
      "execution_count": 3,
      "outputs": []
    },
    {
      "cell_type": "markdown",
      "metadata": {
        "id": "FB-Q9o0so_4a"
      },
      "source": [
        "**Prediction**"
      ]
    },
    {
      "cell_type": "code",
      "metadata": {
        "colab": {
          "base_uri": "https://localhost:8080/"
        },
        "id": "5qFW-0o-gPVm",
        "outputId": "79284df9-d431-47d8-ade6-673fff8f8a12"
      },
      "source": [
        "prediction = reg.predict(np.array([[0,0,0,0,1]]))\n",
        "prediction = np.around(abs(prediction))\n",
        "print ('Prediction: ', prediction)\n",
        "\n",
        "if (prediction == [1,0,0]).all():\n",
        "  print ('turn right')\n",
        "elif (prediction == [0,0,1]).all():\n",
        "  print ('turn left')\n",
        "elif (prediction == [1,0,1]).all():\n",
        "  print ('go straight')\n",
        "elif (prediction == [0,0,0]).all():\n",
        "  print ('stop')\n",
        "elif (prediction == [1,1,0]).all():\n",
        "  print ('hard right')\n",
        "elif (prediction == [0,1,1]).all():\n",
        "  print ('hard left')\n",
        "elif (prediction == [1,1,1]).all():\n",
        "  print ('180` turn')"
      ],
      "execution_count": 4,
      "outputs": [
        {
          "output_type": "stream",
          "name": "stdout",
          "text": [
            "Prediction:  [[1. 1. 0.]]\n",
            "hard right\n"
          ]
        }
      ]
    }
  ]
}